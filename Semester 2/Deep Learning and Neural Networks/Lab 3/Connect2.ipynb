{
 "cells": [
  {
   "cell_type": "code",
   "execution_count": 10,
   "metadata": {},
   "outputs": [],
   "source": [
    "%run GameInterface.ipynb"
   ]
  },
  {
   "cell_type": "code",
   "execution_count": 11,
   "metadata": {},
   "outputs": [],
   "source": [
    "import ipycanvas\n",
    "from IPython.display import clear_output\n",
    "\n",
    "class ConnectX(Game):\n",
    "\n",
    "    WIDTH = 4\n",
    "    X = 2\n",
    "    \n",
    "    BORDER = 2\n",
    "    CELL_SIZE = 50\n",
    "    \n",
    "    def __init__(self):\n",
    "        self.current_player = \"Red\"\n",
    "        self.current_player_val = 1\n",
    "        self.board = [0]*ConnectX.WIDTH\n",
    "    \n",
    "    def update(self, move):\n",
    "        if self.board[move] != 0:\n",
    "            print(\"INVALID MOVE!\")\n",
    "            return\n",
    "        else:\n",
    "            self.board[move] = self.current_player\n",
    "            if self.current_player == \"Red\":\n",
    "                self.current_player = \"Blue\"\n",
    "                self.current_player_val = -1\n",
    "            else:\n",
    "                self.current_player = \"Red\"\n",
    "                self.current_player_val = 1\n",
    "    \n",
    "    def getMoves(self):\n",
    "        return [i for i in range(4) if self.board[i]==0]\n",
    "    \n",
    "    def isGameOver(self):\n",
    "        return self.getWinner()!=None or len(self.getMoves())==0\n",
    "    \n",
    "    def getWinner(self):\n",
    "        length = 1\n",
    "        for i in range(1,len(self.board)):\n",
    "            if self.board[i] != 0 and self.board[i] == self.board[i-1]:\n",
    "                length = length + 1\n",
    "                if length == ConnectX.X:\n",
    "                    return self.board[i]\n",
    "            else:\n",
    "                length = 1\n",
    "        return None\n",
    "    \n",
    "    def clone(self):\n",
    "        clone = ConnectX()\n",
    "        clone.current_player = self.current_player\n",
    "        clone.board = [x for x in self.board]\n",
    "        return clone\n",
    "    \n",
    "    def drawGame(self):\n",
    "        clear_output()\n",
    "        canvas = ipycanvas.RoughCanvas(width=self.BORDER*2+self.CELL_SIZE*self.WIDTH,\n",
    "                                       height=self.BORDER*2+self.CELL_SIZE)\n",
    "        canvas.stroke_style = 'black'\n",
    "        canvas.font = '14px serif'\n",
    "        canvas.rough_fill_style = 'solid'\n",
    "        with ipycanvas.hold_canvas(canvas):\n",
    "            \n",
    "            canvas.fill_style = 'White'\n",
    "            canvas.fill_rect(self.BORDER,self.BORDER,self.CELL_SIZE*self.WIDTH,self.CELL_SIZE)\n",
    "            \n",
    "            for i in range(len(self.board)):\n",
    "                if self.board[i] == \"Red\":\n",
    "                    canvas.fill_style = 'Coral'\n",
    "                    canvas.fill_rect(\n",
    "                        self.BORDER+i*self.CELL_SIZE+self.CELL_SIZE/20,self.CELL_SIZE/20,\n",
    "                        9*self.CELL_SIZE/10, 9*self.CELL_SIZE/10)\n",
    "                elif self.board[i] == \"Blue\":\n",
    "                    canvas.fill_style = 'DodgerBlue'\n",
    "                    canvas.fill_rect(\n",
    "                        self.BORDER+i*self.CELL_SIZE+self.CELL_SIZE/20,self.CELL_SIZE/20,\n",
    "                        9*self.CELL_SIZE/10, 9*self.CELL_SIZE/10)\n",
    "                canvas.stroke_rect(\n",
    "                    self.BORDER+i*self.CELL_SIZE+self.CELL_SIZE/20,self.CELL_SIZE/20,\n",
    "                    9*self.CELL_SIZE/10, 9*self.CELL_SIZE/10)\n",
    "            display(canvas)"
   ]
  }
 ],
 "metadata": {
  "kernelspec": {
   "display_name": "pyresearch3",
   "language": "python",
   "name": "python3"
  },
  "language_info": {
   "codemirror_mode": {
    "name": "ipython",
    "version": 3
   },
   "file_extension": ".py",
   "mimetype": "text/x-python",
   "name": "python",
   "nbconvert_exporter": "python",
   "pygments_lexer": "ipython3",
   "version": "3.10.9"
  },
  "vscode": {
   "interpreter": {
    "hash": "dddedaa35bad3fac85e6b892adc5ae6a6e37a1f5099d423ec882876c2ee1a6ff"
   }
  }
 },
 "nbformat": 4,
 "nbformat_minor": 4
}
