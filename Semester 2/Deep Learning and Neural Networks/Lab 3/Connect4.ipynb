{
 "cells": [
  {
   "cell_type": "code",
   "execution_count": 1,
   "metadata": {},
   "outputs": [],
   "source": [
    "%run GameInterface.ipynb"
   ]
  },
  {
   "cell_type": "code",
   "execution_count": 2,
   "metadata": {},
   "outputs": [],
   "source": [
    "import copy\n",
    "import ipycanvas\n",
    "from IPython.display import clear_output\n",
    "\n",
    "class Connect4(Game):\n",
    "       \n",
    "    CELL_SIZE = 50\n",
    "    canvas = ipycanvas.RoughCanvas(width=CELL_SIZE*7, height=CELL_SIZE*6)\n",
    "    canvas.stroke_style = 'black'\n",
    "    canvas.rough_fill_style = 'cross-hatch'\n",
    "    \n",
    "    def __init__(self):\n",
    "        self.current_player = \"Red\"\n",
    "        self.current_player_val = 1\n",
    "        self.board_width = 7\n",
    "        self.board_height = 6\n",
    "        self.board = [\"-\"]*(self.board_width*self.board_height)\n",
    "        self.winning = []\n",
    "               \n",
    "    def update(self, move: str) -> None:\n",
    "        column = int(move)        \n",
    "        row = self.board_height-1\n",
    "        while True:\n",
    "            if column+row*self.board_width < 0:\n",
    "                column += 1\n",
    "                row = self.board_height-1\n",
    "                continue\n",
    "            if column+row*self.board_width >= len(self.board):\n",
    "                column -= 1\n",
    "                row = self.board_height-1\n",
    "                continue\n",
    "            if self.board[column+row*self.board_width] != \"-\":\n",
    "                row = row-1\n",
    "            else:\n",
    "                break\n",
    "        self.board[column+row*self.board_width] = self.current_player\n",
    "        if self.current_player == \"Red\":\n",
    "            self.current_player = \"Blue\"\n",
    "            self.current_player_val = -1\n",
    "        else:\n",
    "            self.current_player = \"Red\"\n",
    "            self.current_player_val = 1\n",
    "    \n",
    "    def getMoves(self) -> tuple:\n",
    "        return tuple(str(i) for i in list(range(self.board_width)) if (self.board[i]==\"-\"))\n",
    "    \n",
    "    def clone(self) -> Game:\n",
    "        clone = Connect4()\n",
    "        clone.board = [c for c in self.board]\n",
    "        clone.current_player = self.current_player\n",
    "        clone.current_player_val = self.current_player_val\n",
    "        self.current_player_val = 1\n",
    "        return clone\n",
    "    \n",
    "    def isGameOver(self) -> bool:\n",
    "        if all(i!=\"-\" for i in self.board):\n",
    "            return True\n",
    "        if self.getWinner()!=None:\n",
    "            return True\n",
    "        return False\n",
    "        \n",
    "    def getWinner(self) -> int:\n",
    "        for i in range(self.board_width):\n",
    "            for j in range(self.board_height):\n",
    "                # horizontal\n",
    "                if (j+3 < self.board_height and self.board[i+j*self.board_width]!=\"-\"\n",
    "                        and all([self.board[i+j*self.board_width]==self.board[i+(j+x)*self.board_width] for x in range(4)])):\n",
    "                    self.winning = [(i,j+x) for x in range(4)]\n",
    "                    return self.board[i+j*self.board_width]\n",
    "                # vertical\n",
    "                if (i+3 < self.board_width and self.board[i+j*self.board_width]!=\"-\"\n",
    "                        and all([self.board[i+j*self.board_width]==self.board[(i+x)+j*self.board_width] for x in range(4)])):\n",
    "                    self.winning = [(i+x,j) for x in range(4)]\n",
    "                    return self.board[i+j*self.board_width]\n",
    "                # diagonal (right)\n",
    "                if (i+3 < self.board_width and j+3 < self.board_height and self.board[i+j*self.board_width]!=\"-\"\n",
    "                        and all([self.board[i+j*self.board_width]==self.board[(i+x)+(j+x)*self.board_width] for x in range(4)])):\n",
    "                    self.winning = [(i+x,j+x) for x in range(4)]\n",
    "                    return self.board[i+j*self.board_width]\n",
    "                # diagonal (left)\n",
    "                if (i+3 < self.board_width and j-3 >= 0 and self.board[i+j*self.board_width]!=\"-\"\n",
    "                        and all([self.board[i+j*self.board_width]==self.board[(i+x)+(j-x)*self.board_width] for x in range(4)])):\n",
    "                    self.winning = [(i+x,j-x) for x in range(4)]\n",
    "                    return self.board[i+j*self.board_width]\n",
    "        return None\n",
    "    \n",
    "    def drawGame(self) -> None:\n",
    "        clear_output()\n",
    "        self.canvas.clear()\n",
    "        with ipycanvas.hold_canvas(self.canvas):\n",
    "            for i in range(self.board_width):\n",
    "                for j in range(self.board_height):\n",
    "                    cell = self.board[i+j*self.board_width]\n",
    "                    if cell == \"Red\":\n",
    "                        self.canvas.fill_style = 'Chocolate'\n",
    "                        self.canvas.fill_rect(i*50, j*50, 45, 45)        \n",
    "                    if cell == \"Blue\":\n",
    "                        self.canvas.fill_style = 'SlateBlue'\n",
    "                        self.canvas.fill_rect(i*50, j*50, 45, 45)\n",
    "                    self.canvas.stroke_style = 'black'\n",
    "                    self.canvas.stroke_rect(i*50, j*50, 45, 45)        \n",
    "            display(self.canvas)"
   ]
  },
  {
   "cell_type": "code",
   "execution_count": 3,
   "metadata": {},
   "outputs": [
    {
     "data": {
      "text/plain": [
       "__main__.Connect4"
      ]
     },
     "execution_count": 3,
     "metadata": {},
     "output_type": "execute_result"
    }
   ],
   "source": [
    "Connect4"
   ]
  },
  {
   "cell_type": "code",
   "execution_count": null,
   "metadata": {},
   "outputs": [],
   "source": []
  }
 ],
 "metadata": {
  "kernelspec": {
   "display_name": "pyresearch3",
   "language": "python",
   "name": "python3"
  },
  "language_info": {
   "codemirror_mode": {
    "name": "ipython",
    "version": 3
   },
   "file_extension": ".py",
   "mimetype": "text/x-python",
   "name": "python",
   "nbconvert_exporter": "python",
   "pygments_lexer": "ipython3",
   "version": "3.12.1"
  },
  "vscode": {
   "interpreter": {
    "hash": "dddedaa35bad3fac85e6b892adc5ae6a6e37a1f5099d423ec882876c2ee1a6ff"
   }
  }
 },
 "nbformat": 4,
 "nbformat_minor": 4
}
