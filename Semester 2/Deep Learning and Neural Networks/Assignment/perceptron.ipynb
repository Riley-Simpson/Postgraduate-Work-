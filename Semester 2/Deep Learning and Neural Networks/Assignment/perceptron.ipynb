{
 "cells": [
  {
   "attachments": {},
   "cell_type": "markdown",
   "metadata": {},
   "source": [
    "# Assignment Part 1: Perceptron \n",
    "\n",
    "This file contains the template code for the Perceptron.\n",
    "\n",
    "### Perceptron Class"
   ]
  },
  {
   "cell_type": "code",
   "execution_count": 35,
   "metadata": {},
   "outputs": [
    {
     "ename": "IndentationError",
     "evalue": "expected an indented block after 'for' statement on line 85 (1751623078.py, line 89)",
     "output_type": "error",
     "traceback": [
      "\u001b[1;36m  Cell \u001b[1;32mIn[35], line 89\u001b[1;36m\u001b[0m\n\u001b[1;33m    pass\u001b[0m\n\u001b[1;37m    ^\u001b[0m\n\u001b[1;31mIndentationError\u001b[0m\u001b[1;31m:\u001b[0m expected an indented block after 'for' statement on line 85\n"
     ]
    }
   ],
   "source": [
    "import numpy as np\n",
    "import matplotlib.pyplot as plt\n",
    "from tqdm import tqdm\n",
    "\n",
    "class Perceptron(object):\n",
    "    #==========================================#\n",
    "    # The init method is called when an object #\n",
    "    # is created. It can be used to initialize #\n",
    "    # the attributes of the class.             #\n",
    "    #==========================================#\n",
    "    def __init__(self, no_inputs, max_iterations, learning_rate, activation,bias):\n",
    "        self.no_inputs = no_inputs\n",
    "        self.weights = np.ones(no_inputs) / no_inputs \n",
    "        self.max_iter = max_iterations\n",
    "        self.learning_rate = learning_rate\n",
    "        self.activation = activation\n",
    "        self.bias = bias\n",
    "\n",
    "    #=======================================#\n",
    "    # Prints the details of the perceptron. #\n",
    "    #=======================================#\n",
    "    def convert_labels(self,label):\n",
    "        labels = {\n",
    "            'car' : 0,\n",
    "            'harbor' : 1,\n",
    "            'helicopter' : 2,\n",
    "            'oil_gas_field' : 3,\n",
    "            'parking_lot' : 4,\n",
    "            'plane' : 5,\n",
    "            'runway_mark' : 6,\n",
    "            'ship' : 7,\n",
    "            'stadium' : 8,\n",
    "            'storage_tank' : 9}\n",
    "        return labels[label] \n",
    "\n",
    "    def print_details(self):\n",
    "        print(\"No. inputs:\\t\" + str(self.no_inputs))\n",
    "        print(\"Max iterations:\\t\" + str(self.max_iter))\n",
    "        print(\"Learning rate:\\t\" + str(self.learning_rate))\n",
    "\n",
    "    def activate_sigmoid(self, a):\n",
    "        return 1 / (1 + np.exp(-a))\n",
    "    \n",
    "    def activate_step(self, a):\n",
    "        return 0 if a < 0 else 1 \n",
    "    \n",
    "    #=========================================#\n",
    "    # Performs feed-forward prediction on one #\n",
    "    # set of inputs.                          #\n",
    "    #=========================================#\n",
    "    \n",
    "    def do_predict(self, x):\n",
    "        a = np.dot(x, self.weights) + self.bias\n",
    "        if self.activation == \"sigmoid\":\n",
    "            return self.activate_sigmoid(a)\n",
    "        else:  # default to step activation\n",
    "            return self.activate_step(a)\n",
    "\n",
    "    #======================================#\n",
    "    # Trains the perceptron using labelled #\n",
    "    # training data.                       #\n",
    "    #======================================#\n",
    "            \n",
    "    def do_train_online(self, training_data, labels, target):\n",
    "        assert len(training_data) == len(labels)\n",
    "        print('Online Training...')\n",
    "        for _ in tqdm(self.max_iter):\n",
    "            for x, t in zip(training_data.iterrows(), labels):\n",
    "                # Convert the label to 1 if it's the target (e.g., 7 for ships), else 0\n",
    "                binary_label = 1 if t == self.convert_labels(target) else 0\n",
    "                x_data = x[1][:].to_numpy() # x[1] to access the data row, skipping the index\n",
    "                o = self.do_predict(x_data)\n",
    "                error = binary_label - o\n",
    "                self.weights += self.learning_rate * error * x_data\n",
    "                self.bias += self.learning_rate * error\n",
    "\n",
    "        #=========================================#\n",
    "        # Tests the prediction on each element of #\n",
    "        # the testing data. Prints the precision, #\n",
    "        # recall, and accuracy of the perceptron. #\n",
    "        #=========================================#\n",
    "\n",
    "    def train_batch(self,training_data,labels,target,batch_size):\n",
    "        assert len(training_data) == len(labels)\n",
    "        print('Batch Training...')\n",
    "        for _ in tqdm(self.max_iter):\n",
    "            \n",
    "\n",
    "\n",
    "        pass\n",
    "\n",
    "    def test(self, testing_data, labels, target_label):\n",
    "        assert len(testing_data) == len(labels)\n",
    "        print('Testing...')\n",
    "        total = len(testing_data)\n",
    "        correct = 0\n",
    "        true_positives = 0\n",
    "        false_positives = 0\n",
    "        false_negatives = 0\n",
    "        \n",
    "        for x, t in zip(testing_data.itertuples(index=False, name=None), labels):\n",
    "            binary_label = 1 if t == self.convert_labels(target_label) else 0\n",
    "            o = self.do_predict(x)\n",
    "            \n",
    "            if o == binary_label:\n",
    "                correct += 1\n",
    "                if o == 1:\n",
    "                    true_positives += 1\n",
    "            else:\n",
    "                if o == 1:\n",
    "                    false_positives += 1\n",
    "                elif o == 0:\n",
    "                    false_negatives += 1\n",
    "\n",
    "        accuracy = correct / total\n",
    "        precision = true_positives / (true_positives + false_positives) if (true_positives + false_positives) > 0 else 0\n",
    "        recall = true_positives / (true_positives + false_negatives) if (true_positives + false_negatives) > 0 else 0\n",
    "\n",
    "        print(\"Accuracy:\\t\"+str(accuracy))\n",
    "        print(\"Precision:\\t\"+str(precision))\n",
    "        print(\"Recall:\\t\"+str(recall))"
   ]
  },
  {
   "attachments": {},
   "cell_type": "markdown",
   "metadata": {},
   "source": [
    "### Main\n",
    "\n",
    "The following cell should:\n",
    "1. Load the dataset training and testing data.\n",
    "2. Create a Perceptron node.\n",
    "3. Train and test the node.\n"
   ]
  },
  {
   "cell_type": "markdown",
   "metadata": {},
   "source": [
    "# Load and process data "
   ]
  },
  {
   "cell_type": "code",
   "execution_count": 33,
   "metadata": {},
   "outputs": [
    {
     "name": "stdout",
     "output_type": "stream",
     "text": [
      "Loading Data\n"
     ]
    }
   ],
   "source": [
    "# Load dataset \n",
    "import pandas as pd \n",
    "\n",
    "# Load the dataset training and testing data \n",
    "print('Loading Data')\n",
    "training_data = pd.read_csv(\"overhead_mnist_train.csv\",header=None)\n",
    "x_training = training_data.iloc[:, 1:]  \n",
    "y_training = training_data.iloc[:, 0]   \n",
    "\n",
    "testing_data = pd.read_csv(\"overhead_mnist_test.csv\",header=None)\n",
    "x_testing = testing_data.iloc[:, 1:]  \n",
    "y_testing = testing_data.iloc[:, 0]   \n",
    "\n",
    "print('Data Loaded')\n"
   ]
  },
  {
   "cell_type": "markdown",
   "metadata": {},
   "source": [
    "### Perform analysis over the different combinations for the best results: \n",
    "- activation: step, learning: online\n",
    "- activation: step, learning: batch\n",
    "- activation: sigmoid, learning: online\n",
    "- activation: sigmoid, learning: batch."
   ]
  },
  {
   "cell_type": "markdown",
   "metadata": {},
   "source": [
    "Activation : Step \n",
    "Learning: Online "
   ]
  },
  {
   "cell_type": "markdown",
   "metadata": {},
   "source": [
    "# 1.1 Complete the implementation of the Perceptron"
   ]
  },
  {
   "cell_type": "code",
   "execution_count": null,
   "metadata": {},
   "outputs": [],
   "source": [
    "# Create a perceptron node\n",
    "no_of_inputs = x_training.shape[1]\n",
    "perceptron = Perceptron(no_of_inputs,\n",
    "                        max_iterations=20, \n",
    "                        learning_rate=0.01, \n",
    "                        activation=\"step\",\n",
    "                        bias=0)\n",
    "\n",
    "# Train and test the node \n",
    "\n",
    "perceptron.do_train_online(x_training, y_training,'ship')\n",
    "perceptron.test(x_testing, y_testing,'ship')\n"
   ]
  },
  {
   "cell_type": "code",
   "execution_count": null,
   "metadata": {},
   "outputs": [],
   "source": []
  }
 ],
 "metadata": {
  "kernelspec": {
   "display_name": "pyresearch3",
   "language": "python",
   "name": "python3"
  },
  "language_info": {
   "codemirror_mode": {
    "name": "ipython",
    "version": 3
   },
   "file_extension": ".py",
   "mimetype": "text/x-python",
   "name": "python",
   "nbconvert_exporter": "python",
   "pygments_lexer": "ipython3",
   "version": "3.12.2"
  },
  "vscode": {
   "interpreter": {
    "hash": "dddedaa35bad3fac85e6b892adc5ae6a6e37a1f5099d423ec882876c2ee1a6ff"
   }
  }
 },
 "nbformat": 4,
 "nbformat_minor": 4
}
