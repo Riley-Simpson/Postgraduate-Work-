{
 "cells": [
  {
   "attachments": {},
   "cell_type": "markdown",
   "metadata": {},
   "source": [
    "# Assignment Part 1: Perceptron Template\n",
    "\n",
    "This file contains the template code for the Perceptron.\n",
    "\n",
    "### Perceptron Class"
   ]
  },
  {
   "cell_type": "code",
   "execution_count": 3,
   "metadata": {},
   "outputs": [],
   "source": [
    "import numpy as np\n",
    "import matplotlib.pyplot as plt\n",
    "\n",
    "class Perceptron(object):\n",
    "\n",
    "    #==========================================#\n",
    "    # The init method is called when an object #\n",
    "    # is created. It can be used to initialize #\n",
    "    # the attributes of the class.             #\n",
    "    #==========================================#\n",
    "    def __init__(self, no_inputs, max_iterations=20, learning_rate=0.1, activation=\"step\"):\n",
    "        self.no_inputs = no_inputs\n",
    "        self.weights = np.ones(no_inputs) / no_inputs \n",
    "        self.max_iter = max_iterations\n",
    "        self.learning_rate = learning_rate\n",
    "        self.activation = activation\n",
    "\n",
    "    #=======================================#\n",
    "    # Prints the details of the perceptron. #\n",
    "    #=======================================#\n",
    "    def print_details(self):\n",
    "        print(\"No. inputs:\\t\" + str(self.no_inputs))\n",
    "        print(\"Max iterations:\\t\" + str(self.max_iter))\n",
    "        print(\"Learning rate:\\t\" + str(self.learning_rate))\n",
    "\n",
    "    def activate_sigmoid(self, a):\n",
    "        # TO-DO: implement sigmoid\n",
    "        return o\n",
    "    \n",
    "    def activate_step(self, a):\n",
    "        # TO-DO: implement step\n",
    "        return o\n",
    "    \n",
    "    #=========================================#\n",
    "    # Performs feed-forward prediction on one #\n",
    "    # set of inputs.                          #\n",
    "    #=========================================#\n",
    "    \n",
    "    def do_predict(self, x):\n",
    "        # TO-DO:\n",
    "        return output\n",
    "\n",
    "    #======================================#\n",
    "    # Trains the perceptron using labelled #\n",
    "    # training data.                       #\n",
    "    #======================================#\n",
    "    def do_train_online(self, training_data, labels):\n",
    "        assert len(training_data) == len(labels)\n",
    "        # TO-DO:\n",
    "        # online (not batch)\n",
    "        # shuffle the data\n",
    "        # for each element x:\n",
    "            # o = self.prediction(x)\n",
    "            # t is the label\n",
    "            # w' <- w + ksdjfhsdkjh\n",
    "        \n",
    "        return\n",
    "\n",
    "    #=========================================#\n",
    "    # Tests the prediction on each element of #\n",
    "    # the testing data. Prints the precision, #\n",
    "    # recall, and accuracy of the perceptron. #\n",
    "    #=========================================#\n",
    "    def test(self, testing_data, labels):\n",
    "        assert len(testing_data) == len(labels)\n",
    "        # TO-DO:\n",
    "        accuracy = 0.0\n",
    "        precision = 0.0\n",
    "        recall = 0.0\n",
    "        print(\"Accuracy:\\t\"+str(accuracy))\n",
    "        print(\"Precision:\\t\"+str(precision))\n",
    "        print(\"Recall:\\t\"+str(recall))"
   ]
  },
  {
   "attachments": {},
   "cell_type": "markdown",
   "metadata": {},
   "source": [
    "### Main\n",
    "\n",
    "The following cell should:\n",
    "1. Load the dataset training and testing data.\n",
    "2. Create a Perceptron node.\n",
    "3. Train and test the node.\n",
    "4. Print out clothes/shoes and weights."
   ]
  },
  {
   "cell_type": "code",
   "execution_count": 9,
   "metadata": {},
   "outputs": [
    {
     "name": "stdout",
     "output_type": "stream",
     "text": [
      "No. inputs:\t785\n",
      "Max iterations:\t20\n",
      "Learning rate:\t0.1\n"
     ]
    }
   ],
   "source": [
    "p = Perceptron(28*28+1)\n",
    "p.print_details()"
   ]
  },
  {
   "cell_type": "markdown",
   "metadata": {},
   "source": [
    "### Perform analysis over the different combinations for the best results: \n",
    "- activation: step, learning: online\n",
    "- activation: step, learning: batch\n",
    "- activation: sigmoid, learning: online\n",
    "- activation: sigmoid, learning: batch."
   ]
  }
 ],
 "metadata": {
  "kernelspec": {
   "display_name": "pyresearch3",
   "language": "python",
   "name": "python3"
  },
  "language_info": {
   "codemirror_mode": {
    "name": "ipython",
    "version": 3
   },
   "file_extension": ".py",
   "mimetype": "text/x-python",
   "name": "python",
   "nbconvert_exporter": "python",
   "pygments_lexer": "ipython3",
   "version": "3.10.13"
  },
  "vscode": {
   "interpreter": {
    "hash": "dddedaa35bad3fac85e6b892adc5ae6a6e37a1f5099d423ec882876c2ee1a6ff"
   }
  }
 },
 "nbformat": 4,
 "nbformat_minor": 4
}
