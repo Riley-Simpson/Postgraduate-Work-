{
 "cells": [
  {
   "attachments": {},
   "cell_type": "markdown",
   "metadata": {},
   "source": [
    "# Assignment Part 2: Neural Net Template\n",
    "\n",
    "This file contains the template code for the Neural Net with hidden layers.\n",
    "\n",
    "### Artificial Neural Net Class"
   ]
  },
  {
   "cell_type": "code",
   "execution_count": 1,
   "metadata": {},
   "outputs": [],
   "source": [
    "import numpy as np\n",
    "import random\n",
    "\n",
    "class ANN:\n",
    "\n",
    "    #==========================================#\n",
    "    # The init method is called when an object #\n",
    "    # is created. It can be used to initialize #\n",
    "    # the attributes of the class.             #\n",
    "    #==========================================#\n",
    "    def __init__(self, no_inputs, hidden_layers=[3,4,5], max_iterations=20, learning_rate=0.1):\n",
    "\n",
    "        self.no_inputs = no_inputs\n",
    "        self.hidden_layers = hidden_layers # TO-DO:\n",
    "        self.max_iter = max_iterations\n",
    "        self.learning_rate = learning_rate\n",
    "        \n",
    "        # TO-DO:\n",
    "        for layer in range(len(hidden_layers)):\n",
    "            no_nodes = hidden_layers[layer]\n",
    "            # no_inputs_to_layer = ??\n",
    "            # initialise weight matrix of shape: (no_nodes, no_inputs_to_layer)\n",
    "\n",
    "    #===================================#\n",
    "    # Performs the activation function. #\n",
    "    # Expects an array of values of     #\n",
    "    # shape (1,N) where N is the number #\n",
    "    # of nodes in the layer.            #\n",
    "    #===================================#\n",
    "    def activate(self, a):\n",
    "        # TO-DO:\n",
    "        return 0\n",
    "\n",
    "    #=========================================#\n",
    "    # Performs feed-forward prediction on     #\n",
    "    # batch of inputs.                        #\n",
    "    #=========================================#\n",
    "    def do_predict(self, x):\n",
    "        return output\n",
    "    \n",
    "    #===============================#\n",
    "    # Trains the net using labelled #\n",
    "    # training data.                #\n",
    "    #===============================#\n",
    "    def do_train(self, training_data, labels):\n",
    "        assert len(training_data) == len(labels)\n",
    "        # TO-DO:\n",
    "        return\n",
    "    \n",
    "    #=========================================#\n",
    "    # Tests the prediction on each element of #\n",
    "    # the testing data. Prints the precision, #\n",
    "    # recall, and accuracy.                   #\n",
    "    #=========================================#\n",
    "    def test(self, testing_data, labels):\n",
    "        assert len(testing_data) == len(labels)\n",
    "        # TO-DO:\n",
    "        accuracy = 0.0\n",
    "        precision = 0.0\n",
    "        recall = 0.0\n",
    "        print(\"Accuracy:\\t\"+str(accuracy))\n",
    "        print(\"Precision:\\t\"+str(precision))\n",
    "        print(\"Recall:\\t\"+str(recall))"
   ]
  },
  {
   "cell_type": "markdown",
   "metadata": {},
   "source": [
    "### Main method\n",
    "\n",
    "The following cell(s) should complete parts 2.1 to 2.5."
   ]
  },
  {
   "cell_type": "code",
   "execution_count": 7,
   "metadata": {},
   "outputs": [],
   "source": [
    "# TO-DO load training data\n",
    "# TO-DO load testing data\n",
    "\n",
    "# TO-DO create a net\n",
    "net = ANN(0, hidden_layers=[])\n",
    "\n",
    "# TO-DO call train\n",
    "# TO-DO call test"
   ]
  },
  {
   "cell_type": "markdown",
   "metadata": {},
   "source": [
    "### Perform analysis over:\n",
    "- binary classification comparison between Perceptron and NN using sigmoid activation\n",
    "- multi-class classification NN comparison between sigmoid and ReLU activiation"
   ]
  }
 ],
 "metadata": {
  "kernelspec": {
   "display_name": "Python 3",
   "language": "python",
   "name": "python3"
  },
  "language_info": {
   "codemirror_mode": {
    "name": "ipython",
    "version": 3
   },
   "file_extension": ".py",
   "mimetype": "text/x-python",
   "name": "python",
   "nbconvert_exporter": "python",
   "pygments_lexer": "ipython3",
   "version": "3.10.10"
  },
  "vscode": {
   "interpreter": {
    "hash": "aee8b7b246df8f9039afb4144a1f6fd8d2ca17a180786b69acc140d282b71a49"
   }
  }
 },
 "nbformat": 4,
 "nbformat_minor": 4
}
